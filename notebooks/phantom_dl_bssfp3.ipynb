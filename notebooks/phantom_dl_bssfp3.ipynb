{
 "cells": [
  {
   "cell_type": "code",
   "execution_count": 1,
   "id": "a41a0e93-f344-40b0-bad4-865792f0242a",
   "metadata": {},
   "outputs": [],
   "source": [
    "import sys\n",
    "sys.path.insert(0, '../')\n",
    "import numpy as np\n",
    "import matplotlib.pyplot as plt \n",
    "from deepssfp import dataloader, view, recon, dataset, dataformatter"
   ]
  },
  {
   "cell_type": "code",
   "execution_count": 2,
   "id": "f079e9c8-b337-41c5-b87c-2d9a7529ebc4",
   "metadata": {},
   "outputs": [
    {
     "name": "stdout",
     "output_type": "stream",
     "text": [
      "pymapVBVD version 0.4.8\n",
      "Software version: VB\n"
     ]
    },
    {
     "data": {
      "application/vnd.jupyter.widget-view+json": {
       "model_id": "203a2aaa4c0e4c4cb3f6fd9fd090f9c7",
       "version_major": 2,
       "version_minor": 0
      },
      "text/plain": [
       "Scan 1/1, read all mdhs:   0%|          | 0.00/314M [00:00<?, ?B/s]"
      ]
     },
     "metadata": {},
     "output_type": "display_data"
    },
    {
     "data": {
      "application/vnd.jupyter.widget-view+json": {
       "model_id": "",
       "version_major": 2,
       "version_minor": 0
      },
      "text/plain": [
       "read data:   0%|          | 0/19456 [00:00<?, ?it/s]"
      ]
     },
     "metadata": {},
     "output_type": "display_data"
    },
    {
     "name": "stdout",
     "output_type": "stream",
     "text": [
      "pymapVBVD version 0.4.8\n",
      "Software version: VB\n"
     ]
    },
    {
     "data": {
      "application/vnd.jupyter.widget-view+json": {
       "model_id": "762f64dee63243c6be56757b3ab771df",
       "version_major": 2,
       "version_minor": 0
      },
      "text/plain": [
       "Scan 1/1, read all mdhs:   0%|          | 0.00/314M [00:00<?, ?B/s]"
      ]
     },
     "metadata": {},
     "output_type": "display_data"
    },
    {
     "data": {
      "application/vnd.jupyter.widget-view+json": {
       "model_id": "",
       "version_major": 2,
       "version_minor": 0
      },
      "text/plain": [
       "read data:   0%|          | 0/19456 [00:00<?, ?it/s]"
      ]
     },
     "metadata": {},
     "output_type": "display_data"
    },
    {
     "name": "stdout",
     "output_type": "stream",
     "text": [
      "pymapVBVD version 0.4.8\n",
      "Software version: VB\n"
     ]
    },
    {
     "data": {
      "application/vnd.jupyter.widget-view+json": {
       "model_id": "c30d6bd5f4844cda871b11b3c4c16ff4",
       "version_major": 2,
       "version_minor": 0
      },
      "text/plain": [
       "Scan 1/1, read all mdhs:   0%|          | 0.00/314M [00:00<?, ?B/s]"
      ]
     },
     "metadata": {},
     "output_type": "display_data"
    },
    {
     "data": {
      "application/vnd.jupyter.widget-view+json": {
       "model_id": "",
       "version_major": 2,
       "version_minor": 0
      },
      "text/plain": [
       "read data:   0%|          | 0/19456 [00:00<?, ?it/s]"
      ]
     },
     "metadata": {},
     "output_type": "display_data"
    },
    {
     "name": "stdout",
     "output_type": "stream",
     "text": [
      "pymapVBVD version 0.4.8\n",
      "Software version: VB\n"
     ]
    },
    {
     "data": {
      "application/vnd.jupyter.widget-view+json": {
       "model_id": "449d48ce2845463992fe7af35baa5b0e",
       "version_major": 2,
       "version_minor": 0
      },
      "text/plain": [
       "Scan 1/1, read all mdhs:   0%|          | 0.00/314M [00:00<?, ?B/s]"
      ]
     },
     "metadata": {},
     "output_type": "display_data"
    },
    {
     "data": {
      "application/vnd.jupyter.widget-view+json": {
       "model_id": "",
       "version_major": 2,
       "version_minor": 0
      },
      "text/plain": [
       "read data:   0%|          | 0/19456 [00:00<?, ?it/s]"
      ]
     },
     "metadata": {},
     "output_type": "display_data"
    },
    {
     "name": "stdout",
     "output_type": "stream",
     "text": [
      "pymapVBVD version 0.4.8\n",
      "Software version: VB\n"
     ]
    },
    {
     "data": {
      "application/vnd.jupyter.widget-view+json": {
       "model_id": "557f09e22e7643b39d861444431b5544",
       "version_major": 2,
       "version_minor": 0
      },
      "text/plain": [
       "Scan 1/1, read all mdhs:   0%|          | 0.00/314M [00:00<?, ?B/s]"
      ]
     },
     "metadata": {},
     "output_type": "display_data"
    },
    {
     "data": {
      "application/vnd.jupyter.widget-view+json": {
       "model_id": "",
       "version_major": 2,
       "version_minor": 0
      },
      "text/plain": [
       "read data:   0%|          | 0/19456 [00:00<?, ?it/s]"
      ]
     },
     "metadata": {},
     "output_type": "display_data"
    },
    {
     "name": "stdout",
     "output_type": "stream",
     "text": [
      "pymapVBVD version 0.4.8\n",
      "Software version: VB\n"
     ]
    },
    {
     "data": {
      "application/vnd.jupyter.widget-view+json": {
       "model_id": "391afed253ba4e1c9f66a1666c32c060",
       "version_major": 2,
       "version_minor": 0
      },
      "text/plain": [
       "Scan 1/1, read all mdhs:   0%|          | 0.00/314M [00:00<?, ?B/s]"
      ]
     },
     "metadata": {},
     "output_type": "display_data"
    },
    {
     "data": {
      "application/vnd.jupyter.widget-view+json": {
       "model_id": "",
       "version_major": 2,
       "version_minor": 0
      },
      "text/plain": [
       "read data:   0%|          | 0/19456 [00:00<?, ?it/s]"
      ]
     },
     "metadata": {},
     "output_type": "display_data"
    },
    {
     "name": "stdout",
     "output_type": "stream",
     "text": [
      "pymapVBVD version 0.4.8\n",
      "Software version: VB\n"
     ]
    },
    {
     "data": {
      "application/vnd.jupyter.widget-view+json": {
       "model_id": "242c99c577fa4c4fb7146b3f8bfcb9dd",
       "version_major": 2,
       "version_minor": 0
      },
      "text/plain": [
       "Scan 1/1, read all mdhs:   0%|          | 0.00/314M [00:00<?, ?B/s]"
      ]
     },
     "metadata": {},
     "output_type": "display_data"
    },
    {
     "data": {
      "application/vnd.jupyter.widget-view+json": {
       "model_id": "",
       "version_major": 2,
       "version_minor": 0
      },
      "text/plain": [
       "read data:   0%|          | 0/19456 [00:00<?, ?it/s]"
      ]
     },
     "metadata": {},
     "output_type": "display_data"
    },
    {
     "name": "stdout",
     "output_type": "stream",
     "text": [
      "pymapVBVD version 0.4.8\n",
      "Software version: VB\n"
     ]
    },
    {
     "data": {
      "application/vnd.jupyter.widget-view+json": {
       "model_id": "ea6b318366a2481e9d02476ce1369a97",
       "version_major": 2,
       "version_minor": 0
      },
      "text/plain": [
       "Scan 1/1, read all mdhs:   0%|          | 0.00/314M [00:00<?, ?B/s]"
      ]
     },
     "metadata": {},
     "output_type": "display_data"
    },
    {
     "data": {
      "application/vnd.jupyter.widget-view+json": {
       "model_id": "",
       "version_major": 2,
       "version_minor": 0
      },
      "text/plain": [
       "read data:   0%|          | 0/19456 [00:00<?, ?it/s]"
      ]
     },
     "metadata": {},
     "output_type": "display_data"
    }
   ],
   "source": [
    "#x, y = M\n",
    "mode = dataformatter.modes[0]\n",
    "#dataformatter.format_and_prepare_data(x, y, mode)\n",
    "ds = dataset.Dataset(mode)"
   ]
  },
  {
   "cell_type": "code",
   "execution_count": 3,
   "id": "f82fbd3b-18b3-44c5-9367-e453a42ae9ad",
   "metadata": {},
   "outputs": [
    {
     "name": "stdout",
     "output_type": "stream",
     "text": [
      "Dataset: mode:BandRemoval:4, size:256 height:152 width:256 cin:8 cout:2 ratio:0.8\n"
     ]
    }
   ],
   "source": [
    "print(ds)"
   ]
  },
  {
   "cell_type": "code",
   "execution_count": 4,
   "id": "7537fcf9-b24b-4424-a20b-c0b46cf5f3ef",
   "metadata": {},
   "outputs": [
    {
     "name": "stdout",
     "output_type": "stream",
     "text": [
      "(1, 152, 256, 8) (1, 152, 256, 2)\n"
     ]
    },
    {
     "data": {
      "text/plain": [
       "(-0.5, 255.5, 151.5, -0.5)"
      ]
     },
     "execution_count": 4,
     "metadata": {},
     "output_type": "execute_result"
    },
    {
     "data": {
      "image/png": "[encoded data removed]",
      "text/plain": [
       "<Figure size 432x288 with 2 Axes>"
      ]
     },
     "metadata": {
      "needs_background": "light"
     },
     "output_type": "display_data"
    }
   ],
   "source": [
    "x, y = ds.next_batch(1)\n",
    "print(x.shape, y.shape)\n",
    "x = x[0,:,:,0] + 1j * x[0,:,:,1]\n",
    "y = y[0,:,:,0] + 1j * y[0,:,:,1]\n",
    "plt.subplot(1, 2, 1)\n",
    "plt.imshow(np.abs(x), cmap='gray')\n",
    "plt.axis('off')\n",
    "plt.subplot(1, 2, 2)\n",
    "plt.imshow(np.abs(y), cmap='gray')\n",
    "plt.axis('off')"
   ]
  },
  {
   "cell_type": "code",
   "execution_count": 5,
   "id": "64c0ba7d-b996-4765-bec7-b62ce40a4358",
   "metadata": {},
   "outputs": [],
   "source": [
    "outfile = 'deep_ssfp_phantom_dataset'\n",
    "np.save(outfile, [ds])"
   ]
  },
  {
   "cell_type": "code",
   "execution_count": 7,
   "id": "8cfda6be-f723-4de4-9d36-038fea4bbc49",
   "metadata": {},
   "outputs": [],
   "source": [
    "ds2 = dataset.Dataset.load()"
   ]
  },
  {
   "cell_type": "code",
   "execution_count": 8,
   "id": "a2005cbb-0d6c-42aa-9a7a-3fb910d0cbb7",
   "metadata": {},
   "outputs": [
    {
     "data": {
      "text/plain": [
       "[array([[[[ 1.32550148e-03,  6.28858583e-04, -8.97744556e-03, ...,\n",
       "            2.46563350e-03,  2.04627333e-03,  4.72654846e-03],\n",
       "          [-4.31038880e-03,  7.06354557e-04, -6.42364512e-03, ...,\n",
       "            1.82511437e-03,  3.98398992e-04, -2.72028618e-03],\n",
       "          [ 7.62971495e-04,  2.82307768e-03, -1.64156425e-03, ...,\n",
       "           -5.18111972e-03, -2.83955970e-03,  4.29131901e-03],\n",
       "          ...,\n",
       "          [ 2.85664316e-03, -1.18741274e-03, -1.62757283e-03, ...,\n",
       "            2.22594201e-04,  1.42389811e-03,  2.45483979e-03],\n",
       "          [ 6.82548694e-04,  3.81331811e-03, -6.06980358e-04, ...,\n",
       "           -3.95760335e-03, -3.41007762e-03, -4.84608389e-03],\n",
       "          [-4.57753105e-03,  5.14445529e-05,  5.21251173e-03, ...,\n",
       "           -3.49782728e-03,  3.88705903e-04, -1.76587628e-03]],\n",
       " \n",
       "         [[-5.65887866e-03, -5.79125877e-03, -2.03313418e-03, ...,\n",
       "           -2.62174667e-03, -1.07514035e-03, -3.47919483e-03],\n",
       "          [-1.62997041e-03,  2.12500918e-03, -1.32376013e-03, ...,\n",
       "            2.59757174e-05, -4.83477814e-03,  5.12869923e-03],\n",
       "          [ 5.32705842e-04,  4.75078631e-03,  5.39961310e-03, ...,\n",
       "           -1.90167960e-03,  1.24461725e-03,  1.54814349e-03],\n",
       "          ...,\n",
       "          [-1.40957162e-03, -2.93052475e-04, -4.52085072e-03, ...,\n",
       "           -3.90805017e-03,  6.65543305e-04, -8.20151722e-04],\n",
       "          [-1.82231297e-03, -2.67392562e-03, -2.69442536e-03, ...,\n",
       "            2.31103586e-03,  5.45347853e-03, -2.43521689e-03],\n",
       "          [ 3.45248110e-03, -1.21810055e-03, -3.81501645e-03, ...,\n",
       "            1.04403137e-03,  6.36687291e-04, -7.96402803e-03]],\n",
       " \n",
       "         [[ 2.73284872e-03,  5.81314246e-03, -4.29879169e-03, ...,\n",
       "            1.68572124e-03, -2.18485051e-04, -2.07304191e-03],\n",
       "          [ 7.30441159e-03,  8.91176856e-04,  4.42920182e-03, ...,\n",
       "           -1.89037817e-04, -3.33193943e-03, -4.10162871e-03],\n",
       "          [ 4.97267074e-03,  6.76669163e-03,  3.20442055e-03, ...,\n",
       "           -3.24491695e-03, -1.03906426e-03,  2.25996125e-03],\n",
       "          ...,\n",
       "          [ 5.41085112e-04,  6.34159868e-03, -2.44606078e-03, ...,\n",
       "            2.78395819e-03, -3.83116167e-03, -3.33678915e-03],\n",
       "          [-3.37107542e-03, -3.44862864e-03, -2.92878751e-03, ...,\n",
       "            1.03443569e-03, -4.95073750e-04, -1.41076052e-03],\n",
       "          [ 2.74090606e-03, -7.69301572e-04, -3.31873623e-05, ...,\n",
       "            4.47855968e-03,  3.09535962e-03,  1.72045654e-03]],\n",
       " \n",
       "         ...,\n",
       " \n",
       "         [[-4.73855034e-03,  2.82120604e-03, -1.23487927e-03, ...,\n",
       "           -5.73180548e-03, -2.58117809e-03,  1.14455744e-03],\n",
       "          [ 1.13345589e-02,  6.64092180e-03,  2.34347951e-03, ...,\n",
       "           -2.87536171e-03,  2.59057616e-03, -5.48737933e-03],\n",
       "          [-2.67335933e-03,  2.28816806e-03,  1.48644399e-03, ...,\n",
       "           -2.21884738e-03,  9.78231367e-04, -1.51042814e-03],\n",
       "          ...,\n",
       "          [-3.88624943e-03, -5.24204031e-03,  2.56218901e-03, ...,\n",
       "            2.82082543e-03,  1.71615603e-03,  3.63982501e-03],\n",
       "          [ 1.95124007e-03, -6.65029298e-03,  2.12500242e-03, ...,\n",
       "           -1.55409576e-03,  2.75969478e-03, -3.81479575e-03],\n",
       "          [ 5.41119094e-03, -4.13388316e-03, -9.88576626e-04, ...,\n",
       "            2.24170488e-03, -5.62883244e-03, -2.45489203e-03]],\n",
       " \n",
       "         [[ 2.05116535e-04,  8.75811834e-04, -1.66290688e-03, ...,\n",
       "            4.72258306e-03, -5.32178673e-03, -3.52755506e-03],\n",
       "          [-8.32816468e-04, -6.26071415e-04, -2.29282434e-04, ...,\n",
       "           -1.54405874e-03,  1.91204577e-03, -1.32491291e-03],\n",
       "          [-6.96287520e-04,  2.45739863e-03, -1.06188408e-03, ...,\n",
       "            1.30861641e-03, -2.30624092e-03,  1.18720512e-04],\n",
       "          ...,\n",
       "          [-1.79161726e-03,  1.05741600e-03,  8.27356348e-04, ...,\n",
       "            3.50423327e-03,  2.64004823e-03,  2.25552249e-03],\n",
       "          [ 4.11215292e-04,  3.21204311e-03, -2.13309188e-03, ...,\n",
       "            2.43665994e-03, -2.02750253e-04,  8.35508831e-03],\n",
       "          [ 1.18785431e-04,  9.90881014e-04,  3.36434428e-03, ...,\n",
       "           -8.69527315e-04, -2.82707006e-05,  5.57532379e-03]],\n",
       " \n",
       "         [[ 3.73059989e-03,  2.19332853e-03, -2.54179869e-03, ...,\n",
       "            5.04689913e-03, -4.19741501e-03,  7.56918166e-03],\n",
       "          [-2.63141323e-04, -7.62576653e-03, -4.75378111e-03, ...,\n",
       "           -3.38351853e-04, -3.07537041e-04, -3.48385265e-03],\n",
       "          [ 3.56529838e-04, -2.62401859e-03,  1.25505651e-03, ...,\n",
       "           -3.90826689e-03,  4.18427068e-03, -9.50156525e-04],\n",
       "          ...,\n",
       "          [-2.04648321e-03, -3.67288255e-03,  9.71648834e-04, ...,\n",
       "            3.83471448e-03,  9.39750767e-04, -3.58312951e-03],\n",
       "          [ 4.50195493e-03,  1.14415722e-03,  2.16091515e-03, ...,\n",
       "            3.47922501e-04,  1.74980046e-03,  1.82019919e-03],\n",
       "          [-3.23689401e-03, -5.59396898e-04, -2.41517792e-03, ...,\n",
       "           -5.58285546e-03,  2.28417489e-03,  4.04959593e-03]]]]),\n",
       " array([[[[-0.00270521,  0.00556582],\n",
       "          [-0.00216909, -0.00079322],\n",
       "          [-0.00361074, -0.00071606],\n",
       "          ...,\n",
       "          [-0.00040062,  0.00235132],\n",
       "          [-0.00454975, -0.00648562],\n",
       "          [-0.0006068 , -0.00416128]],\n",
       " \n",
       "         [[-0.00701558, -0.00457872],\n",
       "          [-0.0024921 ,  0.00366906],\n",
       "          [-0.00064908, -0.00012525],\n",
       "          ...,\n",
       "          [-0.00073347, -0.00374249],\n",
       "          [ 0.00296742, -0.0002372 ],\n",
       "          [ 0.00209812, -0.00516469]],\n",
       " \n",
       "         [[ 0.00788985, -0.00026701],\n",
       "          [ 0.00048119, -0.00322073],\n",
       "          [-0.00023808, -0.00067474],\n",
       "          ...,\n",
       "          [-0.00458233,  0.00012215],\n",
       "          [-0.00438614, -0.0005032 ],\n",
       "          [ 0.00162705,  0.00464595]],\n",
       " \n",
       "         ...,\n",
       " \n",
       "         [[-0.00418774, -0.00340049],\n",
       "          [ 0.00071744, -0.00574035],\n",
       "          [ 0.00212592, -0.00217765],\n",
       "          ...,\n",
       "          [ 0.00176158,  0.0043313 ],\n",
       "          [ 0.00239891, -0.00423615],\n",
       "          [-0.00387604, -0.00034914]],\n",
       " \n",
       "         [[-0.00394248,  0.00104352],\n",
       "          [-0.0006082 , -0.00212546],\n",
       "          [ 0.00055196,  0.00138754],\n",
       "          ...,\n",
       "          [ 0.00226042,  0.00438852],\n",
       "          [-0.00183322,  0.00764849],\n",
       "          [ 0.00172755,  0.00364575]],\n",
       " \n",
       "         [[-0.0021511 ,  0.00963435],\n",
       "          [-0.0003626 , -0.0032211 ],\n",
       "          [ 0.00089662, -0.00367893],\n",
       "          ...,\n",
       "          [ 0.00249714,  0.00011568],\n",
       "          [ 0.007303  ,  0.00166724],\n",
       "          [ 0.00658471, -0.00110161]]]])]"
      ]
     },
     "execution_count": 8,
     "metadata": {},
     "output_type": "execute_result"
    }
   ],
   "source": [
    "ds2[0].next_batch(1)"
   ]
  },
  {
   "cell_type": "code",
   "execution_count": null,
   "id": "da26a84f-c2cf-4e5e-bda8-ad6cbe8b9e97",
   "metadata": {},
   "outputs": [],
   "source": []
  }
 ],
 "metadata": {
  "kernelspec": {
   "display_name": "Python 3 (ipykernel)",
   "language": "python",
   "name": "python3"
  },
  "language_info": {
   "codemirror_mode": {
    "name": "ipython",
    "version": 3
   },
   "file_extension": ".py",
   "mimetype": "text/x-python",
   "name": "python",
   "nbconvert_exporter": "python",
   "pygments_lexer": "ipython3",
   "version": "3.8.12"
  }
 },
 "nbformat": 4,
 "nbformat_minor": 5
}
