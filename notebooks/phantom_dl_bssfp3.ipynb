{
 "cells": [
  {
   "cell_type": "code",
   "execution_count": 1,
   "id": "a41a0e93-f344-40b0-bad4-865792f0242a",
   "metadata": {},
   "outputs": [],
   "source": [
    "import sys\n",
    "sys.path.insert(0, '../')\n",
    "import numpy as np\n",
    "import matplotlib.pyplot as plt \n",
    "from deepssfp import dataloader, view, recon, dataset, dataformatter"
   ]
  },
  {
   "cell_type": "code",
   "execution_count": 2,
   "id": "f079e9c8-b337-41c5-b87c-2d9a7529ebc4",
   "metadata": {},
   "outputs": [
    {
     "name": "stdout",
     "output_type": "stream",
     "text": [
      "pymapVBVD version 0.4.8\n",
      "Software version: VB\n"
     ]
    },
    {
     "data": {
      "application/json": {
       "ascii": false,
       "bar_format": null,
       "colour": null,
       "elapsed": 0.01602911949157715,
       "initial": 0,
       "n": 0,
       "ncols": null,
       "nrows": 6,
       "postfix": null,
       "prefix": "Scan 1/1, read all mdhs",
       "rate": null,
       "total": 329258976,
       "unit": "B",
       "unit_divisor": 1024,
       "unit_scale": true
      },
      "application/vnd.jupyter.widget-view+json": {
       "model_id": "0f44fe48e3534c98b2df2dd6250c19b3",
       "version_major": 2,
       "version_minor": 0
      },
      "text/plain": [
       "Scan 1/1, read all mdhs:   0%|          | 0.00/314M [00:00<?, ?B/s]"
      ]
     },
     "metadata": {},
     "output_type": "display_data"
    },
    {
     "data": {
      "application/json": {
       "ascii": false,
       "bar_format": null,
       "colour": null,
       "elapsed": 0.012992382049560547,
       "initial": 0,
       "n": 0,
       "ncols": null,
       "nrows": 6,
       "postfix": null,
       "prefix": "read data",
       "rate": null,
       "total": 19456,
       "unit": "it",
       "unit_divisor": 1000,
       "unit_scale": false
      },
      "application/vnd.jupyter.widget-view+json": {
       "model_id": "5e7ff1c584bb4926b8c8abbaddac6fed",
       "version_major": 2,
       "version_minor": 0
      },
      "text/plain": [
       "read data:   0%|          | 0/19456 [00:00<?, ?it/s]"
      ]
     },
     "metadata": {},
     "output_type": "display_data"
    },
    {
     "name": "stdout",
     "output_type": "stream",
     "text": [
      "pymapVBVD version 0.4.8\n",
      "Software version: VB\n"
     ]
    },
    {
     "data": {
      "application/json": {
       "ascii": false,
       "bar_format": null,
       "colour": null,
       "elapsed": 0.013970375061035156,
       "initial": 0,
       "n": 0,
       "ncols": null,
       "nrows": 6,
       "postfix": null,
       "prefix": "Scan 1/1, read all mdhs",
       "rate": null,
       "total": 329259040,
       "unit": "B",
       "unit_divisor": 1024,
       "unit_scale": true
      },
      "application/vnd.jupyter.widget-view+json": {
       "model_id": "a875cdbe4c8c411b9e9b8280f38741c4",
       "version_major": 2,
       "version_minor": 0
      },
      "text/plain": [
       "Scan 1/1, read all mdhs:   0%|          | 0.00/314M [00:00<?, ?B/s]"
      ]
     },
     "metadata": {},
     "output_type": "display_data"
    },
    {
     "data": {
      "application/json": {
       "ascii": false,
       "bar_format": null,
       "colour": null,
       "elapsed": 0.012999534606933594,
       "initial": 0,
       "n": 0,
       "ncols": null,
       "nrows": 6,
       "postfix": null,
       "prefix": "read data",
       "rate": null,
       "total": 19456,
       "unit": "it",
       "unit_divisor": 1000,
       "unit_scale": false
      },
      "application/vnd.jupyter.widget-view+json": {
       "model_id": "d602d954807340eb97465732c39a957d",
       "version_major": 2,
       "version_minor": 0
      },
      "text/plain": [
       "read data:   0%|          | 0/19456 [00:00<?, ?it/s]"
      ]
     },
     "metadata": {},
     "output_type": "display_data"
    },
    {
     "name": "stdout",
     "output_type": "stream",
     "text": [
      "pymapVBVD version 0.4.8\n",
      "Software version: VB\n"
     ]
    },
    {
     "data": {
      "application/json": {
       "ascii": false,
       "bar_format": null,
       "colour": null,
       "elapsed": 0.01300048828125,
       "initial": 0,
       "n": 0,
       "ncols": null,
       "nrows": 6,
       "postfix": null,
       "prefix": "Scan 1/1, read all mdhs",
       "rate": null,
       "total": 329259072,
       "unit": "B",
       "unit_divisor": 1024,
       "unit_scale": true
      },
      "application/vnd.jupyter.widget-view+json": {
       "model_id": "208e460d60144ad8ab6fac0663cb5a67",
       "version_major": 2,
       "version_minor": 0
      },
      "text/plain": [
       "Scan 1/1, read all mdhs:   0%|          | 0.00/314M [00:00<?, ?B/s]"
      ]
     },
     "metadata": {},
     "output_type": "display_data"
    },
    {
     "data": {
      "application/json": {
       "ascii": false,
       "bar_format": null,
       "colour": null,
       "elapsed": 0.012964725494384766,
       "initial": 0,
       "n": 0,
       "ncols": null,
       "nrows": 6,
       "postfix": null,
       "prefix": "read data",
       "rate": null,
       "total": 19456,
       "unit": "it",
       "unit_divisor": 1000,
       "unit_scale": false
      },
      "application/vnd.jupyter.widget-view+json": {
       "model_id": "63893b9f1c5e476bb6923df859658da4",
       "version_major": 2,
       "version_minor": 0
      },
      "text/plain": [
       "read data:   0%|          | 0/19456 [00:00<?, ?it/s]"
      ]
     },
     "metadata": {},
     "output_type": "display_data"
    },
    {
     "name": "stdout",
     "output_type": "stream",
     "text": [
      "pymapVBVD version 0.4.8\n",
      "Software version: VB\n"
     ]
    },
    {
     "data": {
      "application/json": {
       "ascii": false,
       "bar_format": null,
       "colour": null,
       "elapsed": 0.012998819351196289,
       "initial": 0,
       "n": 0,
       "ncols": null,
       "nrows": 6,
       "postfix": null,
       "prefix": "Scan 1/1, read all mdhs",
       "rate": null,
       "total": 329259072,
       "unit": "B",
       "unit_divisor": 1024,
       "unit_scale": true
      },
      "application/vnd.jupyter.widget-view+json": {
       "model_id": "dde425e0201149d182e908fb06c4ea96",
       "version_major": 2,
       "version_minor": 0
      },
      "text/plain": [
       "Scan 1/1, read all mdhs:   0%|          | 0.00/314M [00:00<?, ?B/s]"
      ]
     },
     "metadata": {},
     "output_type": "display_data"
    },
    {
     "data": {
      "application/json": {
       "ascii": false,
       "bar_format": null,
       "colour": null,
       "elapsed": 0.012971162796020508,
       "initial": 0,
       "n": 0,
       "ncols": null,
       "nrows": 6,
       "postfix": null,
       "prefix": "read data",
       "rate": null,
       "total": 19456,
       "unit": "it",
       "unit_divisor": 1000,
       "unit_scale": false
      },
      "application/vnd.jupyter.widget-view+json": {
       "model_id": "8a47c542d1fb4fb4ac72f1af67c27bc9",
       "version_major": 2,
       "version_minor": 0
      },
      "text/plain": [
       "read data:   0%|          | 0/19456 [00:00<?, ?it/s]"
      ]
     },
     "metadata": {},
     "output_type": "display_data"
    },
    {
     "name": "stdout",
     "output_type": "stream",
     "text": [
      "pymapVBVD version 0.4.8\n",
      "Software version: VB\n"
     ]
    },
    {
     "data": {
      "application/json": {
       "ascii": false,
       "bar_format": null,
       "colour": null,
       "elapsed": 0.048972368240356445,
       "initial": 0,
       "n": 0,
       "ncols": null,
       "nrows": 6,
       "postfix": null,
       "prefix": "Scan 1/1, read all mdhs",
       "rate": null,
       "total": 329258944,
       "unit": "B",
       "unit_divisor": 1024,
       "unit_scale": true
      },
      "application/vnd.jupyter.widget-view+json": {
       "model_id": "078a03f081e3408db32b68a29c056a99",
       "version_major": 2,
       "version_minor": 0
      },
      "text/plain": [
       "Scan 1/1, read all mdhs:   0%|          | 0.00/314M [00:00<?, ?B/s]"
      ]
     },
     "metadata": {},
     "output_type": "display_data"
    },
    {
     "data": {
      "application/json": {
       "ascii": false,
       "bar_format": null,
       "colour": null,
       "elapsed": 0.012000560760498047,
       "initial": 0,
       "n": 0,
       "ncols": null,
       "nrows": 6,
       "postfix": null,
       "prefix": "read data",
       "rate": null,
       "total": 19456,
       "unit": "it",
       "unit_divisor": 1000,
       "unit_scale": false
      },
      "application/vnd.jupyter.widget-view+json": {
       "model_id": "3344ae23a15c4b6dae6c02962a14331f",
       "version_major": 2,
       "version_minor": 0
      },
      "text/plain": [
       "read data:   0%|          | 0/19456 [00:00<?, ?it/s]"
      ]
     },
     "metadata": {},
     "output_type": "display_data"
    },
    {
     "name": "stdout",
     "output_type": "stream",
     "text": [
      "pymapVBVD version 0.4.8\n",
      "Software version: VB\n"
     ]
    },
    {
     "data": {
      "application/json": {
       "ascii": false,
       "bar_format": null,
       "colour": null,
       "elapsed": 0.011970281600952148,
       "initial": 0,
       "n": 0,
       "ncols": null,
       "nrows": 6,
       "postfix": null,
       "prefix": "Scan 1/1, read all mdhs",
       "rate": null,
       "total": 329259040,
       "unit": "B",
       "unit_divisor": 1024,
       "unit_scale": true
      },
      "application/vnd.jupyter.widget-view+json": {
       "model_id": "a563063a41494faa9d498cdbaaa19be4",
       "version_major": 2,
       "version_minor": 0
      },
      "text/plain": [
       "Scan 1/1, read all mdhs:   0%|          | 0.00/314M [00:00<?, ?B/s]"
      ]
     },
     "metadata": {},
     "output_type": "display_data"
    },
    {
     "data": {
      "application/json": {
       "ascii": false,
       "bar_format": null,
       "colour": null,
       "elapsed": 0.012998580932617188,
       "initial": 0,
       "n": 0,
       "ncols": null,
       "nrows": 6,
       "postfix": null,
       "prefix": "read data",
       "rate": null,
       "total": 19456,
       "unit": "it",
       "unit_divisor": 1000,
       "unit_scale": false
      },
      "application/vnd.jupyter.widget-view+json": {
       "model_id": "d7201cd9e2124fe28ccdc8b02a7b1f18",
       "version_major": 2,
       "version_minor": 0
      },
      "text/plain": [
       "read data:   0%|          | 0/19456 [00:00<?, ?it/s]"
      ]
     },
     "metadata": {},
     "output_type": "display_data"
    },
    {
     "name": "stdout",
     "output_type": "stream",
     "text": [
      "pymapVBVD version 0.4.8\n",
      "Software version: VB\n"
     ]
    },
    {
     "data": {
      "application/json": {
       "ascii": false,
       "bar_format": null,
       "colour": null,
       "elapsed": 0.012999534606933594,
       "initial": 0,
       "n": 0,
       "ncols": null,
       "nrows": 6,
       "postfix": null,
       "prefix": "Scan 1/1, read all mdhs",
       "rate": null,
       "total": 329259040,
       "unit": "B",
       "unit_divisor": 1024,
       "unit_scale": true
      },
      "application/vnd.jupyter.widget-view+json": {
       "model_id": "0fd90363c6694722aed11b4f2cc8f4b5",
       "version_major": 2,
       "version_minor": 0
      },
      "text/plain": [
       "Scan 1/1, read all mdhs:   0%|          | 0.00/314M [00:00<?, ?B/s]"
      ]
     },
     "metadata": {},
     "output_type": "display_data"
    },
    {
     "data": {
      "application/json": {
       "ascii": false,
       "bar_format": null,
       "colour": null,
       "elapsed": 0.013000249862670898,
       "initial": 0,
       "n": 0,
       "ncols": null,
       "nrows": 6,
       "postfix": null,
       "prefix": "read data",
       "rate": null,
       "total": 19456,
       "unit": "it",
       "unit_divisor": 1000,
       "unit_scale": false
      },
      "application/vnd.jupyter.widget-view+json": {
       "model_id": "75655f229d84457996121de5db4593bd",
       "version_major": 2,
       "version_minor": 0
      },
      "text/plain": [
       "read data:   0%|          | 0/19456 [00:00<?, ?it/s]"
      ]
     },
     "metadata": {},
     "output_type": "display_data"
    },
    {
     "name": "stdout",
     "output_type": "stream",
     "text": [
      "pymapVBVD version 0.4.8\n",
      "Software version: VB\n"
     ]
    },
    {
     "data": {
      "application/json": {
       "ascii": false,
       "bar_format": null,
       "colour": null,
       "elapsed": 0.013000249862670898,
       "initial": 0,
       "n": 0,
       "ncols": null,
       "nrows": 6,
       "postfix": null,
       "prefix": "Scan 1/1, read all mdhs",
       "rate": null,
       "total": 329259072,
       "unit": "B",
       "unit_divisor": 1024,
       "unit_scale": true
      },
      "application/vnd.jupyter.widget-view+json": {
       "model_id": "6f6112879b9f43acb96b1600a5f7d2eb",
       "version_major": 2,
       "version_minor": 0
      },
      "text/plain": [
       "Scan 1/1, read all mdhs:   0%|          | 0.00/314M [00:00<?, ?B/s]"
      ]
     },
     "metadata": {},
     "output_type": "display_data"
    },
    {
     "data": {
      "application/json": {
       "ascii": false,
       "bar_format": null,
       "colour": null,
       "elapsed": 0.012006998062133789,
       "initial": 0,
       "n": 0,
       "ncols": null,
       "nrows": 6,
       "postfix": null,
       "prefix": "read data",
       "rate": null,
       "total": 19456,
       "unit": "it",
       "unit_divisor": 1000,
       "unit_scale": false
      },
      "application/vnd.jupyter.widget-view+json": {
       "model_id": "debaf19e22cb49d6926cdc696c883217",
       "version_major": 2,
       "version_minor": 0
      },
      "text/plain": [
       "read data:   0%|          | 0/19456 [00:00<?, ?it/s]"
      ]
     },
     "metadata": {},
     "output_type": "display_data"
    }
   ],
   "source": [
    "#x, y = M\n",
    "mode = dataformatter.modes[0]\n",
    "#dataformatter.format_and_prepare_data(x, y, mode)\n",
    "ds = dataset.Dataset(mode)"
   ]
  },
  {
   "cell_type": "code",
   "execution_count": 3,
   "id": "f82fbd3b-18b3-44c5-9367-e453a42ae9ad",
   "metadata": {},
   "outputs": [
    {
     "name": "stdout",
     "output_type": "stream",
     "text": [
      "Dataset: mode:BandRemoval:4, size:256 height:128 width:128 cin:8 cout:2 ratio:0.8\n"
     ]
    }
   ],
   "source": [
    "print(ds)"
   ]
  },
  {
   "cell_type": "code",
   "execution_count": 13,
   "id": "7537fcf9-b24b-4424-a20b-c0b46cf5f3ef",
   "metadata": {},
   "outputs": [
    {
     "name": "stdout",
     "output_type": "stream",
     "text": [
      "(1, 128, 128, 8) (1, 128, 128, 2)\n"
     ]
    },
    {
     "data": {
      "text/plain": [
       "(-0.5, 127.5, 127.5, -0.5)"
      ]
     },
     "execution_count": 13,
     "metadata": {},
     "output_type": "execute_result"
    },
    {
     "data": {
      "image/png": "[encoded data removed]",
      "text/plain": [
       "<Figure size 640x480 with 2 Axes>"
      ]
     },
     "metadata": {},
     "output_type": "display_data"
    }
   ],
   "source": [
    "x, y = ds.next_batch(1)\n",
    "print(x.shape, y.shape)\n",
    "x = x[0,:,:,0] + 1j * x[0,:,:,1]\n",
    "y = y[0,:,:,0] + 1j * y[0,:,:,1]\n",
    "plt.subplot(1, 2, 1)\n",
    "plt.imshow(np.abs(x), cmap='gray')\n",
    "plt.axis('off')\n",
    "plt.subplot(1, 2, 2)\n",
    "plt.imshow(np.abs(y), cmap='gray')\n",
    "plt.axis('off')"
   ]
  },
  {
   "cell_type": "code",
   "execution_count": 5,
   "id": "64c0ba7d-b996-4765-bec7-b62ce40a4358",
   "metadata": {},
   "outputs": [],
   "source": [
    "outfile = 'deep_ssfp_phantom_dataset'\n",
    "np.save(outfile, [ds])"
   ]
  },
  {
   "cell_type": "code",
   "execution_count": 6,
   "id": "8cfda6be-f723-4de4-9d36-038fea4bbc49",
   "metadata": {},
   "outputs": [],
   "source": [
    "ds2 = dataset.Dataset.load()"
   ]
  },
  {
   "cell_type": "code",
   "execution_count": 7,
   "id": "4b1a500c-a5f0-47a0-9f08-ece9f6696df1",
   "metadata": {},
   "outputs": [
    {
     "data": {
      "text/plain": [
       "[array([[[[ 1.02718201e-02,  1.19501858e-03,  6.08952340e-03, ...,\n",
       "           -4.04991210e-03,  8.31459090e-05, -2.66205204e-03],\n",
       "          [ 7.33616918e-03, -9.85036578e-03,  1.36465585e-02, ...,\n",
       "            4.69525574e-03, -1.21514546e-02, -1.91115274e-02],\n",
       "          [-3.36329812e-03, -2.04087157e-03, -1.28558562e-02, ...,\n",
       "           -9.30063524e-03, -1.27088827e-02,  7.39910077e-03],\n",
       "          ...,\n",
       "          [ 4.45457417e-03,  3.35957160e-03,  3.43360476e-03, ...,\n",
       "            8.29854423e-03,  9.22722666e-03,  6.00365479e-03],\n",
       "          [ 1.26337759e-02, -1.08906308e-02, -9.54174140e-04, ...,\n",
       "            8.04011058e-03,  1.51000312e-02, -6.34862851e-03],\n",
       "          [-7.45737412e-03,  3.47550349e-03, -9.13306206e-03, ...,\n",
       "            5.72696591e-04,  7.61305662e-03, -8.61383517e-03]],\n",
       " \n",
       "         [[ 6.92715183e-03, -1.67299260e-02,  5.95909830e-03, ...,\n",
       "           -3.37053927e-05,  1.06156720e-02, -7.30684424e-03],\n",
       "          [ 4.15172707e-03, -7.70738402e-03,  4.18375779e-03, ...,\n",
       "           -1.19671301e-02,  1.24965449e-02,  1.06759171e-02],\n",
       "          [ 1.01686641e-03,  7.30404715e-03,  2.39632389e-02, ...,\n",
       "           -9.99296069e-03, -6.80089672e-03,  1.65595042e-02],\n",
       "          ...,\n",
       "          [-2.83461077e-03, -2.48863652e-03,  2.02145428e-03, ...,\n",
       "            3.25731328e-03, -5.38981475e-04, -6.83759814e-04],\n",
       "          [ 6.55278234e-03, -6.56100610e-03, -1.20697067e-02, ...,\n",
       "            2.51303802e-02,  9.91617792e-03, -1.49606463e-02],\n",
       "          [ 6.96130863e-03, -1.26784725e-02,  1.77331929e-03, ...,\n",
       "           -7.98868182e-04, -1.38522044e-02,  5.72845236e-03]],\n",
       " \n",
       "         [[ 6.77795946e-03, -6.55104041e-03,  1.69079580e-03, ...,\n",
       "           -3.97074168e-03, -6.12855762e-03, -1.79015222e-03],\n",
       "          [-6.31289830e-03,  7.47209302e-03,  6.40827323e-03, ...,\n",
       "           -4.58828513e-03, -8.58066526e-03, -1.69031717e-02],\n",
       "          [-1.71804638e-03, -4.04134431e-03, -8.34241950e-03, ...,\n",
       "            2.19137597e-03, -3.35776923e-03, -8.72524690e-04],\n",
       "          ...,\n",
       "          [ 1.26574314e-02,  2.56370869e-03,  3.93740901e-05, ...,\n",
       "           -4.96509702e-04,  1.26924697e-02, -2.77179888e-03],\n",
       "          [ 3.24810612e-03, -4.93391303e-03,  7.47003426e-03, ...,\n",
       "            1.11394953e-03,  3.32761984e-03, -6.45188277e-03],\n",
       "          [-4.08993243e-03,  8.80904078e-03,  8.95083781e-03, ...,\n",
       "            6.89787921e-03,  1.48279937e-02, -4.61347503e-03]],\n",
       " \n",
       "         ...,\n",
       " \n",
       "         [[-5.89474365e-03, -9.70488793e-03,  4.34781197e-03, ...,\n",
       "            2.61312225e-03, -2.18163201e-03, -5.34801788e-03],\n",
       "          [ 5.29429082e-03,  2.80321340e-03,  2.76640974e-03, ...,\n",
       "           -6.52439033e-03, -5.21255387e-04,  5.00220722e-03],\n",
       "          [-4.06706065e-03, -7.84588428e-03, -1.88163896e-02, ...,\n",
       "           -6.72219340e-03,  3.08494057e-03,  8.88591474e-03],\n",
       "          ...,\n",
       "          [ 1.04613337e-02,  2.96675634e-03,  2.95502225e-03, ...,\n",
       "            7.02883330e-03,  1.21859707e-02,  1.76866910e-02],\n",
       "          [-5.70722207e-03, -2.62174693e-03,  4.30019138e-03, ...,\n",
       "           -4.55575298e-03, -6.38354459e-03,  1.87734335e-03],\n",
       "          [-8.12161993e-03, -6.33748823e-03,  7.43848466e-03, ...,\n",
       "           -4.18109449e-04, -7.64415391e-03, -6.16952094e-03]],\n",
       " \n",
       "         [[ 1.01716859e-02,  9.03821844e-03,  8.55374997e-03, ...,\n",
       "           -3.06925462e-03, -1.17086725e-02,  5.16848416e-03],\n",
       "          [ 8.86951299e-03,  4.00277159e-03,  1.95894068e-04, ...,\n",
       "            6.99217033e-03,  3.88366132e-03, -2.35861637e-02],\n",
       "          [-3.81483938e-04,  2.05437102e-03,  1.60224459e-02, ...,\n",
       "            2.24471991e-03,  4.40867241e-03, -5.53684996e-03],\n",
       "          ...,\n",
       "          [ 2.21868231e-03,  7.88096917e-04, -3.95222070e-03, ...,\n",
       "            1.96346412e-03,  8.06850194e-03, -1.07458694e-03],\n",
       "          [-1.13203218e-02,  1.24196989e-02,  2.62764112e-03, ...,\n",
       "           -1.17159390e-02,  1.23353784e-03,  1.79444184e-02],\n",
       "          [-5.23887411e-03,  8.58281113e-03,  9.09677166e-03, ...,\n",
       "            2.01056834e-02, -1.49931601e-02,  4.59775625e-03]],\n",
       " \n",
       "         [[-9.74712221e-03, -1.18740050e-02,  7.80548589e-03, ...,\n",
       "           -7.87205505e-03,  6.55352497e-03,  8.13715863e-03],\n",
       "          [-5.22625918e-03, -7.95815362e-03,  1.01883977e-02, ...,\n",
       "           -2.40429414e-03,  5.83761181e-03, -5.46085775e-03],\n",
       "          [-1.08351616e-03, -4.57062700e-03, -7.35667160e-03, ...,\n",
       "            3.45815932e-03,  6.43910857e-03, -2.61907818e-03],\n",
       "          ...,\n",
       "          [-1.20559158e-02,  8.36935450e-03,  1.04474238e-02, ...,\n",
       "           -2.45121234e-05, -2.93063082e-03,  1.09492242e-02],\n",
       "          [-4.11548817e-03, -1.40799631e-02, -1.38134626e-02, ...,\n",
       "           -9.94407614e-03, -1.21643726e-02, -1.43880036e-03],\n",
       "          [ 9.25989028e-03, -4.92449087e-04, -8.94298813e-03, ...,\n",
       "            3.64137564e-03, -9.09583248e-03, -1.61204158e-03]]]]),\n",
       " array([[[[ 0.00207214, -0.00500493],\n",
       "          [-0.00835284, -0.01205896],\n",
       "          [-0.0181621 , -0.0027013 ],\n",
       "          ...,\n",
       "          [ 0.00415513,  0.01117291],\n",
       "          [-0.00178644,  0.00039875],\n",
       "          [-0.0019687 , -0.0057132 ]],\n",
       " \n",
       "         [[ 0.01372763, -0.00685521],\n",
       "          [ 0.00782848, -0.00099654],\n",
       "          [ 0.00461838,  0.00541109],\n",
       "          ...,\n",
       "          [-0.01262088,  0.00189204],\n",
       "          [-0.0009744 ,  0.00587194],\n",
       "          [-0.00817442,  0.00278661]],\n",
       " \n",
       "         [[-0.00031235, -0.00279023],\n",
       "          [-0.00969436, -0.01477078],\n",
       "          [-0.00544748,  0.00073565],\n",
       "          ...,\n",
       "          [ 0.00617254, -0.00222246],\n",
       "          [ 0.00443414, -0.00411305],\n",
       "          [ 0.01530811,  0.00195626]],\n",
       " \n",
       "         ...,\n",
       " \n",
       "         [[-0.00472155, -0.0025757 ],\n",
       "          [ 0.00259526, -0.00157763],\n",
       "          [ 0.0011554 ,  0.00043072],\n",
       "          ...,\n",
       "          [ 0.0061931 ,  0.0160983 ],\n",
       "          [ 0.00299139, -0.00261594],\n",
       "          [-0.00125301, -0.00465259]],\n",
       " \n",
       "         [[ 0.00435989,  0.00139049],\n",
       "          [ 0.00594157, -0.01141333],\n",
       "          [ 0.01005865, -0.00168413],\n",
       "          ...,\n",
       "          [ 0.00419355,  0.00043354],\n",
       "          [-0.00863013,  0.00298372],\n",
       "          [-0.02266947,  0.01845667]],\n",
       " \n",
       "         [[-0.0060015 , -0.00044944],\n",
       "          [ 0.00831485, -0.00523574],\n",
       "          [ 0.00528039,  0.00041207],\n",
       "          ...,\n",
       "          [-0.00637275,  0.00889767],\n",
       "          [-0.017396  , -0.00933571],\n",
       "          [-0.01111789,  0.00112982]]]])]"
      ]
     },
     "execution_count": 7,
     "metadata": {},
     "output_type": "execute_result"
    }
   ],
   "source": [
    "ds2.next_batch(1)"
   ]
  },
  {
   "cell_type": "code",
   "execution_count": null,
   "id": "91a56e30-e494-4149-a0bb-fb2ba7f677b4",
   "metadata": {},
   "outputs": [],
   "source": []
  }
 ],
 "metadata": {
  "kernelspec": {
   "display_name": "Python 3 (ipykernel)",
   "language": "python",
   "name": "python3"
  },
  "language_info": {
   "codemirror_mode": {
    "name": "ipython",
    "version": 3
   },
   "file_extension": ".py",
   "mimetype": "text/x-python",
   "name": "python",
   "nbconvert_exporter": "python",
   "pygments_lexer": "ipython3",
   "version": "3.8.13"
  }
 },
 "nbformat": 4,
 "nbformat_minor": 5
}
